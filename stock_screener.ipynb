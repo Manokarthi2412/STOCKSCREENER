{
  "nbformat": 4,
  "nbformat_minor": 0,
  "metadata": {
    "colab": {
      "provenance": [],
      "mount_file_id": "1oo6kOecj_NY8HU9cfEd_sSAmDW3SOTTg",
      "authorship_tag": "ABX9TyNFwnl6Kn8dTAdFmp79JMMd"
    },
    "kernelspec": {
      "name": "python3",
      "display_name": "Python 3"
    },
    "language_info": {
      "name": "python"
    }
  },
  "cells": [
    {
      "cell_type": "code",
      "source": [
        "!pip install yahoo_fin\n",
        "# !pip install --upgrade pandas-datareader\n",
        "\n",
        "# !pip install --upgrade pandas\n",
        "!pip install yfinance"
      ],
      "metadata": {
        "id": "5MRX7IoRG-Wu"
      },
      "execution_count": null,
      "outputs": []
    },
    {
      "cell_type": "markdown",
      "source": [
        "#importing libraries"
      ],
      "metadata": {
        "id": "yGx_gCX7jY71"
      }
    },
    {
      "cell_type": "code",
      "execution_count": 8,
      "metadata": {
        "id": "x5SwILusGp7p"
      },
      "outputs": [],
      "source": [
        "import pandas_datareader as web\n",
        "import yfinance as yf\n",
        "import pandas as pd\n",
        "import numpy as np\n"
      ]
    },
    {
      "cell_type": "markdown",
      "source": [
        "#LOADING DATA AND STOCK SCREENING"
      ],
      "metadata": {
        "id": "5iekgrDnjg3k"
      }
    },
    {
      "cell_type": "code",
      "source": [
        "path = '/nifty50list1.csv'\n",
        "symbols= pd.read_csv(path)\n"
      ],
      "metadata": {
        "id": "5jAn86lSTolC"
      },
      "execution_count": 22,
      "outputs": []
    },
    {
      "cell_type": "markdown",
      "source": [
        "Creating DataFrames"
      ],
      "metadata": {
        "id": "vReC15ZOjv65"
      }
    },
    {
      "cell_type": "code",
      "source": [
        "tickers = pd.DataFrame()\n",
        "stockscreener_df =  pd.DataFrame()\n"
      ],
      "metadata": {
        "id": "Tnd8cHKL7a1c"
      },
      "execution_count": 27,
      "outputs": []
    },
    {
      "cell_type": "markdown",
      "source": [
        "MOVING AVERAGES 150 and 200"
      ],
      "metadata": {
        "id": "-eWqslqbkBcO"
      }
    },
    {
      "cell_type": "code",
      "source": [
        "tickers['SMA_150'] = round(tickers['Close'].rolling(window=150).mean(),2)\n",
        "tickers['SMA_200'] = round(tickers['Close'].rolling(window=200).mean(),2)"
      ],
      "metadata": {
        "id": "5Y-Lr0FZj-he"
      },
      "execution_count": 44,
      "outputs": []
    },
    {
      "cell_type": "markdown",
      "source": [
        "RSI Calculation"
      ],
      "metadata": {
        "id": "equ-SKngsBdZ"
      }
    },
    {
      "cell_type": "code",
      "source": [
        "def calculate_rsi(prices, n=14):\n",
        "    deltas = np.diff(prices)\n",
        "    seed = deltas[:n+1]\n",
        "    up = seed[seed>=0].sum()/n\n",
        "    down = -seed[seed<0].sum()/n\n",
        "    rs = up/down\n",
        "    rsi = np.zeros_like(prices)\n",
        "    rsi[:n] = 100. - 100./(1.+rs)\n",
        "\n",
        "    for i in range(n, len(prices)):\n",
        "        delta = deltas[i-1] \n",
        "\n",
        "        if delta>0:\n",
        "            upval = delta\n",
        "            downval = 0.\n",
        "        else:\n",
        "            upval = 0.\n",
        "            downval = -delta\n",
        "\n",
        "        up = (up*(n-1) + upval)/n\n",
        "        down = (down*(n-1) + downval)/n\n",
        "\n",
        "        rs = up/down\n",
        "        rsi[i] = 100. - 100./(1.+rs)\n",
        "\n",
        "    return rsi\n"
      ],
      "metadata": {
        "id": "pzOBG0dxkoyA"
      },
      "execution_count": 28,
      "outputs": []
    },
    {
      "cell_type": "markdown",
      "source": [
        "Screening Process"
      ],
      "metadata": {
        "id": "TSmDpMJjkGwV"
      }
    },
    {
      "cell_type": "code",
      "source": [
        "for sym in symbols['Symbol']:\n",
        "  rsi=[]\n",
        "  symbol = sym +'.NS'\n",
        "  nifty50_df= yf.Ticker(symbol)\n",
        "  tickers = nifty50_df.history(period=\"300D\")\n",
        "  tickers['SMA_150'] = round(tickers['Close'].rolling(window=150).mean(),2)\n",
        "  tickers['SMA_200'] = round(tickers['Close'].rolling(window=200).mean(),2)\n",
        "  prices = tickers['Close']\n",
        "  rsi=calculate_rsi(prices)\n",
        "  \n",
        "  temp = tickers.tail(1)\n",
        "  temp['RSI'] = rsi[-1]\n",
        "  \n",
        "  stockscreener_df = stockscreener_df.append(temp, ignore_index = True)\n",
        "  stockscreener_df ['Symbol']= symbols['Symbol']"
      ],
      "metadata": {
        "id": "HHhyKHdbbU4C"
      },
      "execution_count": null,
      "outputs": []
    },
    {
      "cell_type": "code",
      "source": [
        "stockscreener_df.drop(columns=['Dividends','Stock Splits'], inplace =True)\n",
        "print(stockscreener_df)"
      ],
      "metadata": {
        "id": "HoBBMwpxJgA-"
      },
      "execution_count": null,
      "outputs": []
    },
    {
      "cell_type": "markdown",
      "source": [
        "Scanned Data\n",
        "\n",
        "\n"
      ],
      "metadata": {
        "id": "-LILwB8NkPYd"
      }
    },
    {
      "cell_type": "code",
      "source": [
        "print('Long positions\\n')\n",
        "for i in range(stockscreener_df.shape[0]):\n",
        "  condition1 = stockscreener_df['Open'][i]>stockscreener_df['SMA_150'][i] and stockscreener_df['SMA_150'][i]>stockscreener_df['SMA_200'][i] and 60>stockscreener_df['RSI'][i]>40\n",
        "  if(condition1):\n",
        "    print('{} '.format(stockscreener_df['Symbol'][i]))"
      ],
      "metadata": {
        "id": "y5qdIyTcHr5P",
        "colab": {
          "base_uri": "https://localhost:8080/"
        },
        "outputId": "c794d04e-a531-48b6-abc1-b34581d3ea40"
      },
      "execution_count": 42,
      "outputs": [
        {
          "output_type": "stream",
          "name": "stdout",
          "text": [
            "Long positions\n",
            "\n",
            "BAJAJFINSV \n",
            "BHARTIARTL \n",
            "BRITANNIA \n",
            "HDFCBANK \n",
            "HEROMOTOCO \n",
            "HDFC \n",
            "ICICIBANK \n",
            "INDUSINDBK \n",
            "JSWSTEEL \n",
            "LT \n",
            "M&M \n",
            "NTPC \n",
            "NESTLEIND \n",
            "SBILIFE \n",
            "SBIN \n",
            "SUNPHARMA \n",
            "TATASTEEL \n",
            "TITAN \n",
            "ULTRACEMCO \n"
          ]
        }
      ]
    },
    {
      "cell_type": "code",
      "source": [
        "print('Short positions\\n')\n",
        "for i in range(stockscreener_df.shape[0]):\n",
        "  condition2  = stockscreener_df['Close'][i]<stockscreener_df['SMA_150'][i] and stockscreener_df['SMA_150'][i]<stockscreener_df['SMA_200'][i] and 60<=stockscreener_df['RSI'][i]\n",
        "  if(condition2):\n",
        "    print('{}'.format(stockscreener_df['Symbol'][i]))"
      ],
      "metadata": {
        "colab": {
          "base_uri": "https://localhost:8080/"
        },
        "id": "Rcpm44w5qawu",
        "outputId": "d74bb89a-14d7-43bf-ebfd-d0264e65e940"
      },
      "execution_count": 43,
      "outputs": [
        {
          "output_type": "stream",
          "name": "stdout",
          "text": [
            "Short positions\n",
            "\n"
          ]
        }
      ]
    },
    {
      "cell_type": "code",
      "source": [],
      "metadata": {
        "id": "K1O_kCTQtrRP"
      },
      "execution_count": null,
      "outputs": []
    }
  ]
}